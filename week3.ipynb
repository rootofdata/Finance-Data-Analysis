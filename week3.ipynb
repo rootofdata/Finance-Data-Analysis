{
 "cells": [
  {
   "cell_type": "code",
   "execution_count": 23,
   "source": [
    "#1.\r\n",
    "\r\n",
    "#number은 종목번호에 대한 리스트이고, \r\n",
    "#name은 종목명과 주가 정보가 튜플형태로 되어있는 리스트입니다\r\n",
    "\r\n",
    "number = ['005930', '035720', '000660','035420']\r\n",
    "name = [('삼성',70000), ('카카오',140000), ('SK하이닉스',100000), ('네이버',430000)]\r\n",
    "\r\n",
    "stock_dic= dict(zip(number,name))"
   ],
   "outputs": [],
   "metadata": {}
  },
  {
   "cell_type": "markdown",
   "source": [
    "1-1.  number, name 리스트를 사용하여  딕셔너리 만들어보기(zip함수 사용!)"
   ],
   "metadata": {}
  },
  {
   "cell_type": "markdown",
   "source": [
    "이와 같이 출력되어야 합니다!\r\n",
    "\r\n",
    "{'005930': ('삼성', 70000), '035720': ('카카오', 140000), '000660': ('SK하이닉스', 100000), '035420': ('네이버', 430000)}"
   ],
   "metadata": {}
  },
  {
   "cell_type": "code",
   "execution_count": 24,
   "source": [
    "stock_dic"
   ],
   "outputs": [
    {
     "output_type": "execute_result",
     "data": {
      "text/plain": [
       "{'005930': ('삼성', 70000),\n",
       " '035720': ('카카오', 140000),\n",
       " '000660': ('SK하이닉스', 100000),\n",
       " '035420': ('네이버', 430000)}"
      ]
     },
     "metadata": {},
     "execution_count": 24
    }
   ],
   "metadata": {}
  },
  {
   "cell_type": "markdown",
   "source": [
    "1-2. 1-1에서 만든 딕셔너리를 이용하여 enummerate 사용해보기(for , items() 사용!)"
   ],
   "metadata": {}
  },
  {
   "cell_type": "markdown",
   "source": [
    "#이와 같이 출력되어야 합니다!\r\n",
    "\r\n",
    "0 005930 ('삼성', 70000)\r\n",
    "1 035720 ('카카오', 140000)\r\n",
    "2 000660 ('SK하이닉스', 100000)\r\n",
    "3 035420 ('네이버', 430000)"
   ],
   "metadata": {}
  },
  {
   "cell_type": "code",
   "execution_count": 25,
   "source": [
    "for index,(name,value) in enumerate(stock_dic.items()):\r\n",
    "    print(index,name,value)\r\n"
   ],
   "outputs": [
    {
     "output_type": "stream",
     "name": "stdout",
     "text": [
      "0 005930 ('삼성', 70000)\n",
      "1 035720 ('카카오', 140000)\n",
      "2 000660 ('SK하이닉스', 100000)\n",
      "3 035420 ('네이버', 430000)\n"
     ]
    }
   ],
   "metadata": {}
  },
  {
   "cell_type": "markdown",
   "source": [
    "1-3.  listcomprehension 사용해보기\r\n",
    "1-2에서 만든 enummerate문을 이용하여 딕셔너리의 인덱스가 짝수번째인 value만 출력(for, enummerate, items(), if 사용!)"
   ],
   "metadata": {}
  },
  {
   "cell_type": "code",
   "execution_count": 26,
   "source": [
    "#이와 같이 출력되어야 합니다!\r\n",
    "[('삼성', 70000), ('SK하이닉스', 100000)]"
   ],
   "outputs": [
    {
     "output_type": "execute_result",
     "data": {
      "text/plain": [
       "[('삼성', 70000), ('SK하이닉스', 100000)]"
      ]
     },
     "metadata": {},
     "execution_count": 26
    }
   ],
   "metadata": {}
  },
  {
   "cell_type": "code",
   "execution_count": 30,
   "source": [
    "b=[]\r\n",
    "for index,(name,value) in enumerate(stock_dic.items()):\r\n",
    "    if(index % 2)==0:\r\n",
    "        b+=value\r\n",
    "b"
   ],
   "outputs": [
    {
     "output_type": "execute_result",
     "data": {
      "text/plain": [
       "['삼성', 70000, 'SK하이닉스', 100000]"
      ]
     },
     "metadata": {},
     "execution_count": 30
    }
   ],
   "metadata": {}
  },
  {
   "cell_type": "markdown",
   "source": [
    "#이와 같이 출력되어야 합니다!\r\n",
    "[('삼성', 70000), ('SK하이닉스', 100000)]"
   ],
   "metadata": {}
  },
  {
   "cell_type": "markdown",
   "source": [
    "#Quiz 2\r\n",
    "\r\n",
    "list comprehension과 큐(queue)를 활용한 solution함수를 만들어 봅시다!\r\n",
    "\r\n",
    "인쇄 요청이 들어온 순서대로 인쇄하는 일반적인 프린터와 다르게, 중요도가 높은 문서를 먼저 인쇄하는 프린터가 개발됐습니다. 이 프린터는 아래와 같은 방식으로 인쇄 작업을 수행합니다.\r\n",
    "\r\n",
    "1. 인쇄 대기목록의 가장 앞에 있는 문서(J)를 대기목록에서 꺼냅니다.\r\n",
    "2. 나머지 인쇄 대기목록에서 J보다 중요도가 높은 문서가 한 개라도 존재하면 J를 대기목록의 가장 마지막에 넣습니다.\r\n",
    "3. 그렇지 않으면 J를 인쇄합니다.\r\n",
    "\r\n",
    "예를 들어, 4개의 문서(A, B, C, D)가 순서대로 인쇄 대기목록에 있고 중요도가 2 1 3 2 라면 C D A B 순으로 인쇄하게 됩니다.\r\n",
    "\r\n",
    "**현재 대기목록에 있는 문서의 중요도가 순서대로 담긴 배열 priorities와 내가 인쇄를 요청한 문서가 현재 대기목록의 어떤 위치에 있는지를 알려주는 location이 매개변수로 주어질 때, 내가 인쇄를 요청한 문서가 몇 번째로 인쇄되는지 return 하도록 solution 함수를 작성해주세요**.\r\n",
    "\r\n",
    "- 현재 대기목록에는 1개 이상 100개 이하의 문서가 있습니다.\r\n",
    "- 인쇄 작업의 중요도는 1~9로 표현하며 숫자가 클수록 중요하다는 뜻입니다.\r\n",
    "- location은 0 이상 (현재 대기목록에 있는 작업 수 - 1) 이하의 값을 가지며 대기목록의 가장 앞에 있으면 0, 두 번째에 있으면 1로 표현합니다."
   ],
   "metadata": {}
  },
  {
   "cell_type": "markdown",
   "source": [
    "#예시1\r\n",
    "priorities = [2, 1, 3, 2]\r\n",
    "location = 2\r\n",
    "\r\n",
    "solution(priorities, location)\r\n",
    "#output\r\n",
    "1\r\n",
    "\r\n",
    "#예시2\r\n",
    "priorities = [1, 1, 9, 1, 1, 1]\r\n",
    "location = 0\r\n",
    "\r\n",
    "solution(priorities, location)\r\n",
    "#output\r\n",
    "5"
   ],
   "metadata": {}
  },
  {
   "cell_type": "code",
   "execution_count": 33,
   "source": [
    "from collections import deque"
   ],
   "outputs": [],
   "metadata": {}
  },
  {
   "cell_type": "code",
   "execution_count": 34,
   "source": [
    "def solution(priorities, location):\r\n",
    "    answer = 0\r\n",
    "    for i in range(length(priorities))\r\n",
    "        if max(priorities)>priorities[0]:\r\n",
    "\r\n",
    "\r\n",
    "    return answer"
   ],
   "outputs": [
    {
     "output_type": "error",
     "ename": "SyntaxError",
     "evalue": "invalid syntax (CreatorTemp/ipykernel_18572/2097705641.py, line 3)",
     "traceback": [
      "\u001b[1;36m  File \u001b[1;32m\"C:\\Users\\Public\\Documents\\ESTsoft\\CreatorTemp/ipykernel_18572/2097705641.py\"\u001b[1;36m, line \u001b[1;32m3\u001b[0m\n\u001b[1;33m    for i in range(length(priorities))\u001b[0m\n\u001b[1;37m                                      ^\u001b[0m\n\u001b[1;31mSyntaxError\u001b[0m\u001b[1;31m:\u001b[0m invalid syntax\n"
     ]
    }
   ],
   "metadata": {}
  },
  {
   "cell_type": "markdown",
   "source": [
    "서브프라임 당시의 kospi  최대 손실 낙폭(MDD) 구하기\r\n",
    "- 최대 손실 낙폭(MDD) :특정 기간 동안 최대한 얼마의 손실이 날 수 있는지를 판단하는 지표"
   ],
   "metadata": {}
  },
  {
   "cell_type": "code",
   "execution_count": 1,
   "source": [
    "import FinanceDataReader as fdr\r\n",
    "import pandas as pd\r\n",
    "\r\n",
    "# KOSPI지수 데이터 가져오기 (2004년 ~ 2020년)\r\n",
    "kospi_df = fdr.DataReader('KS11', '2004-01-04', '2020-12-31')\r\n",
    "kospi_df.head()"
   ],
   "outputs": [
    {
     "output_type": "execute_result",
     "data": {
      "text/plain": [
       "             Close    Open    High     Low       Volume  Change\n",
       "Date                                                           \n",
       "2004-01-05  824.10  817.28  825.43  816.55  408260000.0  0.0035\n",
       "2004-01-06  823.43  831.26  831.26  819.53  484060000.0 -0.0008\n",
       "2004-01-07  827.07  826.08  831.07  825.23  404560000.0  0.0044\n",
       "2004-01-08  824.15  831.10  839.28  824.15  428760000.0 -0.0035\n",
       "2004-01-09  845.27  835.42  849.50  835.05  543290000.0  0.0256"
      ],
      "text/html": [
       "<div>\n",
       "<style scoped>\n",
       "    .dataframe tbody tr th:only-of-type {\n",
       "        vertical-align: middle;\n",
       "    }\n",
       "\n",
       "    .dataframe tbody tr th {\n",
       "        vertical-align: top;\n",
       "    }\n",
       "\n",
       "    .dataframe thead th {\n",
       "        text-align: right;\n",
       "    }\n",
       "</style>\n",
       "<table border=\"1\" class=\"dataframe\">\n",
       "  <thead>\n",
       "    <tr style=\"text-align: right;\">\n",
       "      <th></th>\n",
       "      <th>Close</th>\n",
       "      <th>Open</th>\n",
       "      <th>High</th>\n",
       "      <th>Low</th>\n",
       "      <th>Volume</th>\n",
       "      <th>Change</th>\n",
       "    </tr>\n",
       "    <tr>\n",
       "      <th>Date</th>\n",
       "      <th></th>\n",
       "      <th></th>\n",
       "      <th></th>\n",
       "      <th></th>\n",
       "      <th></th>\n",
       "      <th></th>\n",
       "    </tr>\n",
       "  </thead>\n",
       "  <tbody>\n",
       "    <tr>\n",
       "      <th>2004-01-05</th>\n",
       "      <td>824.10</td>\n",
       "      <td>817.28</td>\n",
       "      <td>825.43</td>\n",
       "      <td>816.55</td>\n",
       "      <td>408260000.0</td>\n",
       "      <td>0.0035</td>\n",
       "    </tr>\n",
       "    <tr>\n",
       "      <th>2004-01-06</th>\n",
       "      <td>823.43</td>\n",
       "      <td>831.26</td>\n",
       "      <td>831.26</td>\n",
       "      <td>819.53</td>\n",
       "      <td>484060000.0</td>\n",
       "      <td>-0.0008</td>\n",
       "    </tr>\n",
       "    <tr>\n",
       "      <th>2004-01-07</th>\n",
       "      <td>827.07</td>\n",
       "      <td>826.08</td>\n",
       "      <td>831.07</td>\n",
       "      <td>825.23</td>\n",
       "      <td>404560000.0</td>\n",
       "      <td>0.0044</td>\n",
       "    </tr>\n",
       "    <tr>\n",
       "      <th>2004-01-08</th>\n",
       "      <td>824.15</td>\n",
       "      <td>831.10</td>\n",
       "      <td>839.28</td>\n",
       "      <td>824.15</td>\n",
       "      <td>428760000.0</td>\n",
       "      <td>-0.0035</td>\n",
       "    </tr>\n",
       "    <tr>\n",
       "      <th>2004-01-09</th>\n",
       "      <td>845.27</td>\n",
       "      <td>835.42</td>\n",
       "      <td>849.50</td>\n",
       "      <td>835.05</td>\n",
       "      <td>543290000.0</td>\n",
       "      <td>0.0256</td>\n",
       "    </tr>\n",
       "  </tbody>\n",
       "</table>\n",
       "</div>"
      ]
     },
     "metadata": {},
     "execution_count": 1
    }
   ],
   "metadata": {}
  },
  {
   "cell_type": "code",
   "execution_count": 3,
   "source": [
    "# 1년기간 동안 최고치 구하기 (1년 동안의 개장일을 252일로 가정)\r\n",
    "peak = kospi_df['Close'].rolling(window=252, min_periods=1).max()\r\n",
    "\r\n",
    "# 최고치 대비 현재 kospi 종가의 하락정도\r\n",
    "drawdown = kospi_df['Close']/peak - 1.0\r\n",
    "\r\n",
    "# 최대손실 낙폭\r\n",
    "max_drawdown = drawdown.rolling(window=252, min_periods=1).min()\r\n",
    "max_drawdown"
   ],
   "outputs": [
    {
     "output_type": "execute_result",
     "data": {
      "text/plain": [
       "Date\n",
       "2004-01-05    0.000000\n",
       "2004-01-06   -0.000813\n",
       "2004-01-07   -0.000813\n",
       "2004-01-08   -0.003531\n",
       "2004-01-09   -0.003531\n",
       "                ...   \n",
       "2020-12-23   -0.357089\n",
       "2020-12-24   -0.357089\n",
       "2020-12-28   -0.357089\n",
       "2020-12-29   -0.357089\n",
       "2020-12-30   -0.357089\n",
       "Name: Close, Length: 4206, dtype: float64"
      ]
     },
     "metadata": {},
     "execution_count": 3
    }
   ],
   "metadata": {}
  },
  {
   "cell_type": "markdown",
   "source": [
    "3-1. MDD와 MDD를 기록한 기간을 구해주세요."
   ],
   "metadata": {}
  },
  {
   "cell_type": "code",
   "execution_count": 4,
   "source": [
    "MDD_min = max_drawdown.min\r\n",
    "max_drawdown[max_drawdown==MDD_min()]"
   ],
   "outputs": [
    {
     "output_type": "execute_result",
     "data": {
      "text/plain": [
       "Date\n",
       "2008-10-24   -0.545366\n",
       "2008-10-27   -0.545366\n",
       "2008-10-28   -0.545366\n",
       "2008-10-29   -0.545366\n",
       "2008-10-30   -0.545366\n",
       "                ...   \n",
       "2009-10-16   -0.545366\n",
       "2009-10-19   -0.545366\n",
       "2009-10-20   -0.545366\n",
       "2009-10-21   -0.545366\n",
       "2009-10-22   -0.545366\n",
       "Name: Close, Length: 252, dtype: float64"
      ]
     },
     "metadata": {},
     "execution_count": 4
    }
   ],
   "metadata": {}
  },
  {
   "cell_type": "markdown",
   "source": [
    "3-2. enumerate를 활용하여 아래 규칙에 맞게 데이터를 넣어주세요.\r\n",
    "\r\n",
    "MDD를 기록한 기간에는 1, 그렇지 않으면 0을 kospi_df 데이터프레임의 'max_drawdown' 컬럼에  넣어주세요."
   ],
   "metadata": {}
  },
  {
   "cell_type": "code",
   "execution_count": 6,
   "source": [
    "# kospi_df 데이터프레임에 'max_drawdown'컬럼을 추가한 후 진행\r\n",
    "kospi_df['max_drawdown'] = max_drawdown\r\n",
    "col = len(kospi_df.columns) - 1\r\n",
    "col"
   ],
   "outputs": [
    {
     "output_type": "execute_result",
     "data": {
      "text/plain": [
       "6"
      ]
     },
     "metadata": {},
     "execution_count": 6
    }
   ],
   "metadata": {}
  },
  {
   "cell_type": "code",
   "execution_count": 11,
   "source": [
    "for i,v in enumerate(kospi_df['max_drawdown']):\r\n",
    "      if v == MDD_min: \r\n",
    "         kospi_df['max_drawdown'][i]=1\r\n",
    "      else: \r\n",
    "         kospi_df['max_drawdown'][i]=0\r\n",
    "\r\n",
    "kospi_df['max_drawdown']==1"
   ],
   "outputs": [
    {
     "output_type": "execute_result",
     "data": {
      "text/plain": [
       "Date\n",
       "2004-01-05    0.0\n",
       "2004-01-06    0.0\n",
       "2004-01-07    0.0\n",
       "2004-01-08    0.0\n",
       "2004-01-09    0.0\n",
       "             ... \n",
       "2020-12-23    0.0\n",
       "2020-12-24    0.0\n",
       "2020-12-28    0.0\n",
       "2020-12-29    0.0\n",
       "2020-12-30    0.0\n",
       "Name: max_drawdown, Length: 4206, dtype: float64"
      ]
     },
     "metadata": {},
     "execution_count": 11
    }
   ],
   "metadata": {}
  }
 ],
 "metadata": {
  "orig_nbformat": 4,
  "language_info": {
   "name": "python",
   "version": "3.8.5",
   "mimetype": "text/x-python",
   "codemirror_mode": {
    "name": "ipython",
    "version": 3
   },
   "pygments_lexer": "ipython3",
   "nbconvert_exporter": "python",
   "file_extension": ".py"
  },
  "kernelspec": {
   "name": "python3",
   "display_name": "Python 3.8.5 64-bit"
  },
  "interpreter": {
   "hash": "cdce881fc8fe3df2c893f7aaabaec2dd9fa6651ea6aaf02d2bea00d8ef1afde0"
  }
 },
 "nbformat": 4,
 "nbformat_minor": 2
}