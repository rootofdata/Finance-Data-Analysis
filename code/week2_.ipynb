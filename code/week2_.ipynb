{
 "cells": [
  {
   "attachments": {},
   "cell_type": "markdown",
   "metadata": {},
   "source": [
    "### Question 1-1 Data Loading"
   ]
  },
  {
   "cell_type": "code",
   "execution_count": 2,
   "metadata": {},
   "outputs": [
    {
     "data": {
      "text/html": [
       "<div>\n",
       "<style scoped>\n",
       "    .dataframe tbody tr th:only-of-type {\n",
       "        vertical-align: middle;\n",
       "    }\n",
       "\n",
       "    .dataframe tbody tr th {\n",
       "        vertical-align: top;\n",
       "    }\n",
       "\n",
       "    .dataframe thead th {\n",
       "        text-align: right;\n",
       "    }\n",
       "</style>\n",
       "<table border=\"1\" class=\"dataframe\">\n",
       "  <thead>\n",
       "    <tr style=\"text-align: right;\">\n",
       "      <th></th>\n",
       "      <th>age</th>\n",
       "      <th>income</th>\n",
       "      <th>student</th>\n",
       "      <th>credit_rating</th>\n",
       "      <th>class_buys_computer</th>\n",
       "    </tr>\n",
       "  </thead>\n",
       "  <tbody>\n",
       "    <tr>\n",
       "      <th>0</th>\n",
       "      <td>youth</td>\n",
       "      <td>high</td>\n",
       "      <td>no</td>\n",
       "      <td>fair</td>\n",
       "      <td>no</td>\n",
       "    </tr>\n",
       "    <tr>\n",
       "      <th>1</th>\n",
       "      <td>youth</td>\n",
       "      <td>high</td>\n",
       "      <td>no</td>\n",
       "      <td>excellent</td>\n",
       "      <td>no</td>\n",
       "    </tr>\n",
       "    <tr>\n",
       "      <th>2</th>\n",
       "      <td>middle_aged</td>\n",
       "      <td>high</td>\n",
       "      <td>no</td>\n",
       "      <td>fair</td>\n",
       "      <td>yes</td>\n",
       "    </tr>\n",
       "    <tr>\n",
       "      <th>3</th>\n",
       "      <td>senior</td>\n",
       "      <td>medium</td>\n",
       "      <td>no</td>\n",
       "      <td>fair</td>\n",
       "      <td>yes</td>\n",
       "    </tr>\n",
       "    <tr>\n",
       "      <th>4</th>\n",
       "      <td>senior</td>\n",
       "      <td>low</td>\n",
       "      <td>yes</td>\n",
       "      <td>fair</td>\n",
       "      <td>yes</td>\n",
       "    </tr>\n",
       "    <tr>\n",
       "      <th>5</th>\n",
       "      <td>senior</td>\n",
       "      <td>low</td>\n",
       "      <td>yes</td>\n",
       "      <td>excellent</td>\n",
       "      <td>no</td>\n",
       "    </tr>\n",
       "    <tr>\n",
       "      <th>6</th>\n",
       "      <td>middle_aged</td>\n",
       "      <td>low</td>\n",
       "      <td>yes</td>\n",
       "      <td>excellent</td>\n",
       "      <td>yes</td>\n",
       "    </tr>\n",
       "    <tr>\n",
       "      <th>7</th>\n",
       "      <td>youth</td>\n",
       "      <td>medium</td>\n",
       "      <td>no</td>\n",
       "      <td>fair</td>\n",
       "      <td>no</td>\n",
       "    </tr>\n",
       "    <tr>\n",
       "      <th>8</th>\n",
       "      <td>youth</td>\n",
       "      <td>low</td>\n",
       "      <td>yes</td>\n",
       "      <td>fair</td>\n",
       "      <td>yes</td>\n",
       "    </tr>\n",
       "    <tr>\n",
       "      <th>9</th>\n",
       "      <td>senior</td>\n",
       "      <td>medium</td>\n",
       "      <td>yes</td>\n",
       "      <td>fair</td>\n",
       "      <td>yes</td>\n",
       "    </tr>\n",
       "    <tr>\n",
       "      <th>10</th>\n",
       "      <td>youth</td>\n",
       "      <td>medium</td>\n",
       "      <td>yes</td>\n",
       "      <td>excellent</td>\n",
       "      <td>yes</td>\n",
       "    </tr>\n",
       "    <tr>\n",
       "      <th>11</th>\n",
       "      <td>middle_aged</td>\n",
       "      <td>medium</td>\n",
       "      <td>no</td>\n",
       "      <td>excellent</td>\n",
       "      <td>yes</td>\n",
       "    </tr>\n",
       "    <tr>\n",
       "      <th>12</th>\n",
       "      <td>middle_aged</td>\n",
       "      <td>high</td>\n",
       "      <td>yes</td>\n",
       "      <td>fair</td>\n",
       "      <td>yes</td>\n",
       "    </tr>\n",
       "    <tr>\n",
       "      <th>13</th>\n",
       "      <td>senior</td>\n",
       "      <td>medium</td>\n",
       "      <td>no</td>\n",
       "      <td>excellent</td>\n",
       "      <td>no</td>\n",
       "    </tr>\n",
       "  </tbody>\n",
       "</table>\n",
       "</div>"
      ],
      "text/plain": [
       "            age  income student credit_rating class_buys_computer\n",
       "0         youth    high      no          fair                  no\n",
       "1         youth    high      no     excellent                  no\n",
       "2   middle_aged    high      no          fair                 yes\n",
       "3        senior  medium      no          fair                 yes\n",
       "4        senior     low     yes          fair                 yes\n",
       "5        senior     low     yes     excellent                  no\n",
       "6   middle_aged     low     yes     excellent                 yes\n",
       "7         youth  medium      no          fair                  no\n",
       "8         youth     low     yes          fair                 yes\n",
       "9        senior  medium     yes          fair                 yes\n",
       "10        youth  medium     yes     excellent                 yes\n",
       "11  middle_aged  medium      no     excellent                 yes\n",
       "12  middle_aged    high     yes          fair                 yes\n",
       "13       senior  medium      no     excellent                  no"
      ]
     },
     "execution_count": 2,
     "metadata": {},
     "output_type": "execute_result"
    }
   ],
   "source": [
    "import pandas as pd\n",
    "import numpy as np\n",
    "\n",
    "pd_data = pd.read_csv('https://raw.githubusercontent.com/AugustLONG/ML01/master/01decisiontree/AllElectronics.csv')\n",
    "pd_data.drop(\"RID\",axis=1, inplace = True) #RID는 그냥 순서라서 삭제\n",
    "pd_data\n",
    "\n",
    "# Input: df(데이터), label(타겟변수명)\n",
    "# 난이도를 낮추기 위해 함수 중 일부를 작성하였으나, 아예 새로 함수를 만들어도 괜찮습니다."
   ]
  },
  {
   "cell_type": "code",
   "execution_count": 3,
   "metadata": {},
   "outputs": [
    {
     "name": "stdout",
     "output_type": "stream",
     "text": [
      "0.4591836734693877\n"
     ]
    }
   ],
   "source": [
    "def get_gini(df, label):\n",
    "\n",
    "    numerator = int(len(df[df[label] == 'yes']))\n",
    "    denominator = int(len(df))\n",
    "    gini = 1 - (numerator/denominator)**2 - (1-numerator/denominator)**2\n",
    "\n",
    "    return gini\n",
    "\n",
    "print(get_gini(pd_data,'class_buys_computer'))"
   ]
  },
  {
   "attachments": {},
   "cell_type": "markdown",
   "metadata": {},
   "source": [
    "### Question 1-2 Feature의 Class를 이진 분류로 만들기\n",
    "- ex) {A,B,C} -> ({A}, {B,C}), ({B}, {A,C}), ({C}, {A,B})\n",
    "- Input: df(데이터), attribute(Gini index를 구하고자 하는 변수명)\n",
    "- Income 변수를 결과로 출력해주세요."
   ]
  },
  {
   "cell_type": "code",
   "execution_count": 4,
   "metadata": {},
   "outputs": [],
   "source": [
    "from itertools import combinations\n",
    "\n",
    "import pandas as pd\n",
    "import numpy as np\n",
    "import math as math\n",
    "\n",
    "pd_data = pd.read_csv('https://raw.githubusercontent.com/AugustLONG/ML01/master/01decisiontree/AllElectronics.csv')\n",
    "pd_data.drop(\"RID\",axis=1, inplace = True) #RID는 그냥 순서라서 삭제\n",
    "\n",
    "def get_binary_split(df, attribute):\n",
    "    \n",
    "    #결과 담을 list 선언\n",
    "    result = []\n",
    "    uniq =  list(df[attribute].unique())\n",
    "    for i in range(1, len(uniq)):\n",
    "        result += [list(x) for x in combinations(uniq, i)]\n",
    "\n",
    "    return result"
   ]
  },
  {
   "cell_type": "code",
   "execution_count": 5,
   "metadata": {},
   "outputs": [
    {
     "data": {
      "text/plain": [
       "[['high'],\n",
       " ['medium'],\n",
       " ['low'],\n",
       " ['high', 'medium'],\n",
       " ['high', 'low'],\n",
       " ['medium', 'low']]"
      ]
     },
     "execution_count": 5,
     "metadata": {},
     "output_type": "execute_result"
    }
   ],
   "source": [
    "get_binary_split(pd_data,\"income\")"
   ]
  },
  {
   "attachments": {},
   "cell_type": "markdown",
   "metadata": {},
   "source": [
    "### Question 1-2 모든 이진분류의 경우의 Gini index를 구하는 함수 만들기\n",
    "- 위에서 완성한 두 함수를 사용하여 만들어주세요!\n",
    "- 해당 결과는 아래와 같이 나와야 합니다."
   ]
  },
  {
   "cell_type": "code",
   "execution_count": 7,
   "metadata": {},
   "outputs": [],
   "source": [
    "def get_attribute_gini_index(df, attribute, label):\n",
    "    \n",
    "    #전체 데이터 개수 세기\n",
    "    n = len(df)\n",
    "    \n",
    "    #Feature의 Class를 이진 분류로 만들기\n",
    "    splits = get_binary_split(df, attribute)\n",
    "    \n",
    "    #결과 담을 dictionary 선언\n",
    "    result = {}\n",
    "    \n",
    "    \n",
    "    for split in splits:\n",
    "        in_split = df[df[attribute].isin(split)]\n",
    "        out_split = df[~df[attribute].isin(split)]\n",
    "        gini = ((len(in_split) / n) * get_gini(in_split, label) + (len(out_split) / n) * get_gini(out_split, label))  # gini 값 계산\n",
    "        result['_'.join(split)] = gini\n",
    "    return result"
   ]
  },
  {
   "cell_type": "code",
   "execution_count": 8,
   "metadata": {
    "scrolled": true
   },
   "outputs": [
    {
     "data": {
      "text/plain": [
       "{'high': 0.44285714285714284,\n",
       " 'medium': 0.4583333333333333,\n",
       " 'low': 0.45,\n",
       " 'high_medium': 0.45,\n",
       " 'high_low': 0.4583333333333333,\n",
       " 'medium_low': 0.44285714285714284}"
      ]
     },
     "execution_count": 8,
     "metadata": {},
     "output_type": "execute_result"
    }
   ],
   "source": [
    "get_attribute_gini_index(pd_data, \"income\", \"class_buys_computer\")"
   ]
  },
  {
   "cell_type": "markdown",
   "metadata": {},
   "source": [
    "- 여기서 가장 작은 Gini index값을 가지는 class를 보여주세요."
   ]
  },
  {
   "cell_type": "code",
   "execution_count": 9,
   "metadata": {},
   "outputs": [
    {
     "data": {
      "text/plain": [
       "('high', 0.44285714285714284)"
      ]
     },
     "execution_count": 9,
     "metadata": {},
     "output_type": "execute_result"
    }
   ],
   "source": [
    "min(get_attribute_gini_index(pd_data, \"income\", \"class_buys_computer\").items())"
   ]
  },
  {
   "attachments": {},
   "cell_type": "markdown",
   "metadata": {},
   "source": [
    "### Question 1-3 분류를 하는 데 가장 중요한 변수를 선정하고, 해당 변수의 Gini index를 제시해주세요.\n",
    "- 모든 변수에 대한 Gini index(최소)를 출력해주세요.\n",
    "- 해당 결과는 아래와 같이 나와야 합니다."
   ]
  },
  {
   "cell_type": "code",
   "execution_count": 10,
   "metadata": {
    "scrolled": true
   },
   "outputs": [
    {
     "name": "stdout",
     "output_type": "stream",
     "text": [
      "Minimum Gini index of age : 0.3571\n",
      "Minimum Gini index of income : 0.4429\n",
      "Minimum Gini index of student : 0.3673\n",
      "Minimum Gini index of credit_rating : 0.4286\n"
     ]
    }
   ],
   "source": [
    "# 변수명 중 마지막에 위치한 label 컬럼 얻기\n",
    "label = pd_data.columns[-1]\n",
    "# label 변수를 제외한 변수명 얻기\n",
    "features = list(pd_data.columns[:-1])\n",
    "\n",
    "# 각 변수를 대상으로 반복문 수행(해당 변수 중 가장 낮은 gini 계수와 변수 출력)\n",
    "for col in features:\n",
    "    min_gini = min(get_attribute_gini_index(pd_data, col, \"class_buys_computer\").items())[1]\n",
    "    print(f\"Minimum Gini index of {col} : {min_gini:.4f}\")"
   ]
  },
  {
   "cell_type": "markdown",
   "metadata": {},
   "source": [
    "age의 Gini index가 0.3571로 가장 낮으므로, 분류를 하는 데 가장 중요한 변수는 age이다."
   ]
  },
  {
   "cell_type": "markdown",
   "metadata": {},
   "source": [
    "## 위에서 선정한 feature로 DataFrame을 split한 후 나눠진 2개의 DataFrame에서 각각 다음으로 중요한 변수를 선정하고 해당 변수의 Gini index를 제시해주세요."
   ]
  },
  {
   "cell_type": "code",
   "execution_count": 11,
   "metadata": {
    "scrolled": true
   },
   "outputs": [
    {
     "data": {
      "text/plain": [
       "{'youth': 0.3936507936507937,\n",
       " 'middle_aged': 0.35714285714285715,\n",
       " 'senior': 0.45714285714285713,\n",
       " 'youth_middle_aged': 0.45714285714285713,\n",
       " 'youth_senior': 0.35714285714285715,\n",
       " 'middle_aged_senior': 0.3936507936507937}"
      ]
     },
     "execution_count": 11,
     "metadata": {},
     "output_type": "execute_result"
    }
   ],
   "source": [
    "age_split = get_attribute_gini_index(pd_data, \"age\", label)\n",
    "age_split"
   ]
  },
  {
   "cell_type": "markdown",
   "metadata": {},
   "source": [
    "youth, senior / middle_aged로 나누는 것이 가장 좋은 것으로 나타난다."
   ]
  },
  {
   "cell_type": "code",
   "execution_count": 12,
   "metadata": {},
   "outputs": [],
   "source": [
    "features.remove('age')"
   ]
  },
  {
   "cell_type": "code",
   "execution_count": 13,
   "metadata": {},
   "outputs": [],
   "source": [
    "middle_aged = pd_data[pd_data[\"age\"].isin(['youth', 'senior'])]\n",
    "not_middle_aged = pd_data[~pd_data[\"age\"].isin(['youth', 'senior'])]"
   ]
  },
  {
   "cell_type": "code",
   "execution_count": 14,
   "metadata": {},
   "outputs": [
    {
     "name": "stdout",
     "output_type": "stream",
     "text": [
      "Minimum Gini index of income(Middle aged) : 0.3750\n",
      "Minimum Gini index of student(Middle aged) : 0.3200\n",
      "Minimum Gini index of credit_rating(Middle aged) : 0.4167\n",
      "#############################################################\n",
      "Minimum Gini index of income(Middle aged) : 0.0000\n",
      "Minimum Gini index of student(Middle aged) : 0.0000\n",
      "Minimum Gini index of credit_rating(Middle aged) : 0.0000\n"
     ]
    }
   ],
   "source": [
    "# 각 변수를 대상으로 반복문 수행\n",
    "\n",
    "for col in features:\n",
    "    min_gini = min(get_attribute_gini_index(middle_aged, col, \"class_buys_computer\").items())[1]\n",
    "    print(f\"Minimum Gini index of {col}(Middle aged) : {min_gini:.4f}\")\n",
    "\n",
    "print(\"#############################################################\")\n",
    "\n",
    "for col in features:\n",
    "    min_gini = min(get_attribute_gini_index(not_middle_aged, col, \"class_buys_computer\").items())[1]\n",
    "    print(f\"Minimum Gini index of {col}(Middle aged) : {min_gini:.4f}\")"
   ]
  },
  {
   "cell_type": "markdown",
   "metadata": {},
   "source": [
    "## Entropy 를 구하는 함수 만들기"
   ]
  },
  {
   "attachments": {
    "image.png": {
     "image/png": "[encoded data removed]"
    }
   },
   "cell_type": "markdown",
   "metadata": {},
   "source": [
    "![image.png](attachment:image.png)"
   ]
  },
  {
   "cell_type": "code",
   "execution_count": 15,
   "metadata": {},
   "outputs": [],
   "source": [
    "def getEntropy(df, feature):\n",
    "    \n",
    "    entropy = 0 \n",
    "    ps = df[feature].value_counts() / len(df)\n",
    "    for p in ps:\n",
    "        entropy -= p * np.log2(p)\n",
    "        \n",
    "    return entropy"
   ]
  },
  {
   "cell_type": "code",
   "execution_count": 16,
   "metadata": {},
   "outputs": [
    {
     "data": {
      "text/plain": [
       "0.9402859586706311"
      ]
     },
     "execution_count": 16,
     "metadata": {},
     "output_type": "execute_result"
    }
   ],
   "source": [
    "getEntropy(pd_data, \"class_buys_computer\")"
   ]
  },
  {
   "cell_type": "code",
   "execution_count": 17,
   "metadata": {},
   "outputs": [],
   "source": [
    "def getGainA(df, features) :\n",
    "    info_D = getEntropy(df, features) # 목표변수에 대한 Entropy 를 구하기\n",
    "    columns = list(df.loc[:, df.columns != features]) # 목표변수(feature)를 제외한 나머지 변수들의 변수명을 리스트 형태로 저장\n",
    "    result = {}\n",
    "    \n",
    "    for feature in columns:\n",
    "        \n",
    "        entropy = 0 #entropy값 초기화\n",
    "        n = len(pd_data)\n",
    "        unique = df[feature].unique()\n",
    "        \n",
    "        for i in unique:\n",
    "            tmp_df = df[df[feature].isin([i])] \n",
    "            entropy += len(tmp_df) / n * getEntropy(tmp_df, features)\n",
    "            \n",
    "        result[feature] = info_D - entropy\n",
    "    \n",
    "    return(result)"
   ]
  },
  {
   "cell_type": "code",
   "execution_count": 18,
   "metadata": {
    "scrolled": true
   },
   "outputs": [
    {
     "data": {
      "text/plain": [
       "{'age': 0.24674981977443933,\n",
       " 'income': 0.02922256565895487,\n",
       " 'student': 0.15183550136234159,\n",
       " 'credit_rating': 0.04812703040826949}"
      ]
     },
     "execution_count": 18,
     "metadata": {},
     "output_type": "execute_result"
    }
   ],
   "source": [
    "getGainA(pd_data, \"class_buys_computer\")"
   ]
  },
  {
   "cell_type": "markdown",
   "metadata": {},
   "source": [
    "## Q2"
   ]
  },
  {
   "cell_type": "code",
   "execution_count": 19,
   "metadata": {},
   "outputs": [
    {
     "name": "stderr",
     "output_type": "stream",
     "text": [
      "/Users/seoyoungsuk/Library/Python/3.9/lib/python/site-packages/urllib3/__init__.py:34: NotOpenSSLWarning: urllib3 v2.0 only supports OpenSSL 1.1.1+, currently the 'ssl' module is compiled with 'LibreSSL 2.8.3'. See: https://github.com/urllib3/urllib3/issues/3020\n",
      "  warnings.warn(\n"
     ]
    },
    {
     "data": {
      "text/plain": [
       "<Axes: >"
      ]
     },
     "execution_count": 19,
     "metadata": {},
     "output_type": "execute_result"
    },
    {
     "data": {
      "image/png": "[encoded data removed]",
      "text/plain": [
       "<Figure size 640x480 with 1 Axes>"
      ]
     },
     "metadata": {},
     "output_type": "display_data"
    }
   ],
   "source": [
    "import FinanceDataReader as fdr\n",
    "import numpy as np\n",
    "import pandas as pd\n",
    "import FinanceDataReader as fdr\n",
    "\n",
    "# 코스피 데이터 불러오기\n",
    "kospi = fdr.DataReader('KS11')\n",
    "\n",
    "# 코스피 종가 컬럼\n",
    "ks_close = kospi['Close']\n",
    "\n",
    "def Distance(Series: pd.Series) -> pd.Series:\n",
    "    # (2010 ~)\n",
    "    Series = Series['2009-07-15':]\n",
    "\n",
    "    # 시점별 직전 120일 시계열 수치를 데이터프레임으로 표현\n",
    "    time_dict = {}\n",
    "    for i in range(120, len(Series)):\n",
    "        time_dict[Series.index[i-1]] = np.array(Series)[i-120:i]\n",
    "    data = pd.DataFrame(time_dict).T\n",
    "\n",
    "    # var: 변수 X의 전기간 분산\n",
    "    var = Series.var()\n",
    "    \n",
    "    # Distance, (2010 ~)\n",
    "    distance_dict = {}\n",
    "    for i in range(len(data)):\n",
    "        distance_dict[data.index[i]] = (sum((data.iloc[-1] - data.iloc[i])**2 / var) / 120)**(1/2)\n",
    "    distance = pd.Series(distance_dict)\n",
    "\n",
    "    return distance\n",
    "\n",
    "distance = Distance(kospi['Close'])\n",
    "distance.plot()"
   ]
  },
  {
   "cell_type": "markdown",
   "metadata": {},
   "source": [
    "## Q3"
   ]
  },
  {
   "cell_type": "markdown",
   "metadata": {},
   "source": [
    "FIND-A에 오신 여러분들 환영합니다. \n",
    "\n",
    "이번 문제에서는 for문과 함수를 활용하여 **주식을 사고 팔아서 최대의 이익을 내는 방법**을 찾아보고자 합니다. \n",
    "\n",
    "Week1 퀴즈에서는 유사한 문제가 출제되었으나, Week1 퀴즈에 **수수료, 주식을 판 후에 다시 살 수 있는 요소**까지 추가로 고려하여 문제를 풀어보도록 합시다.\n",
    "\n",
    "아래의 방법이 아니더라도 다른 정답이 있을 수 있으니 다른 방법으로 푸셔도 됩니다!"
   ]
  },
  {
   "cell_type": "code",
   "execution_count": 20,
   "metadata": {},
   "outputs": [],
   "source": [
    "def maxProfit():\n",
    "    cash, hold = 0, -prices[0]\n",
    "    for i in range(1, len(prices)):\n",
    "        cash = max(cash, hold+prices[i]-fee)\n",
    "        hold = max(hold, cash-prices[i])\n",
    "    return cash"
   ]
  },
  {
   "cell_type": "code",
   "execution_count": null,
   "metadata": {},
   "outputs": [],
   "source": [
    "\t#Question 2\n",
    "import FinanceDataReader as fdr\n",
    "import numpy as np\n",
    "import pandas as pd\n",
    "\n",
    "# 코스피 데이터 불러오기\n",
    "kospi = fdr.DataReader('KS11')\n",
    "\n",
    "# 코스피 종가 컬럼\n",
    "ks_close = kospi['Close']\n",
    "\n",
    "# 시점별 직전 120일 시계열 수치를 데이터프레임으로 표현\n",
    "time_dict = {}\n",
    "for i in range(120, len(ks_close)):\n",
    "    time_dict[ks_close.index[i-1]] = np.array(ks_close)[i-120:i]\n",
    "data = pd.DataFrame(time_dict).T\n",
    "\n",
    "def Distance(Series: pd.Series) -> pd.Series:\n",
    "    # (2010 ~)\n",
    "    Series = Series['2009-07-15':]\n",
    "\n",
    "    # 시점별 직전 120일 시계열 수치를 데이터프레임으로 표현\n",
    "    time_dict = {}                     #time_dict(딕셔너리 자료형)에 for 반복문으로 내용 채워주는것\n",
    "    for i in range(120, len(Series)):\n",
    "        time_dict[Series.index[i-1]] = np.array(Series)[i-120:i]\n",
    "    data = pd.DataFrame(time_dict).T\n",
    "\n",
    "    # var: 변수 X의 전기간 분산\n",
    "    var = Series.var()\n",
    "\n",
    "    # Distance, (2010 ~)\n",
    "    dict = {}\n",
    "    for i in range(len(data)):\n",
    "        dict[data.index[i]] = (sum((data.iloc[i] - data.iloc[len(data)-1])**2/var/120))**1/2\n",
    "    distance = pd.DataFrame(dict, index='distance').T\n",
    "\n",
    "    return distance\n",
    "\n",
    "distance = Distance(kospi['Close'])\n",
    "distance"
   ]
  }
 ],
 "metadata": {
  "interpreter": {
   "hash": "bbde019b88738a20e6e226cd1f0e0d0ca89ad2b1e41f70b6a4452bafcadb7b31"
  },
  "kernelspec": {
   "display_name": "Python 3.8.8 64-bit ('selenium': venv)",
   "name": "python3"
  },
  "language_info": {
   "codemirror_mode": {
    "name": "ipython",
    "version": 3
   },
   "file_extension": ".py",
   "mimetype": "text/x-python",
   "name": "python",
   "nbconvert_exporter": "python",
   "pygments_lexer": "ipython3",
   "version": "3.9.6"
  }
 },
 "nbformat": 4,
 "nbformat_minor": 4
}
