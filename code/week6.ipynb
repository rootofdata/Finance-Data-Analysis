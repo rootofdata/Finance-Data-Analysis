{
 "cells": [
  {
   "cell_type": "markdown",
   "metadata": {},
   "source": [
    "문제1.\n",
    "\n",
    "NAVER 개발자 센터에서는 데이터 분석 및 시스템 개발에 도움을 줄 수 있는 다양한 API를 제공합니다."
   ]
  },
  {
   "cell_type": "markdown",
   "metadata": {},
   "source": [
    "그 중에는 우리가 번역을 위해 주로 사용하는 papago도 포함되어 있습니다.  오늘은 이 papago api를 이용한 간단한 퀴즈를 풀어보려 합니다. 먼저 Naver Developers 사이트에 들어가 API key를 발급받아야 합니다. 아래 첨부된 pdf 파일을 참고하여 API key를 발급 받아주세요. \n",
    "\n",
    "Naver Develpors: [https://developers.naver.com/apps/#/list](https://developers.naver.com/apps/#/list)\n",
    "\n",
    "* 아래 pdf는 2017년을 기준으로 작성된 것으로 몇가지 변경 사항이 있습니다.\n",
    "* 애플리케이션 이름은 자유롭게 설정 가능합니다.\n",
    "* 사용API는 \"Papago 번역\"을 선택해주세요\n",
    "* 비로그인 오픈 API 서비스 환경에는 \"[http://localhost](http://localhost/)\"를 입력하고 등록해주세요."
   ]
  },
  {
   "cell_type": "markdown",
   "metadata": {},
   "source": [
    "다음으로 python을 이용한 papago 구현 예제 코드를 로컬에서 실행해보도록 하겠습니다. 아래의 링크를 참고해주세요.\n",
    "[https://developers.naver.com/docs/papago/papago-detectlangs-example-code.md#python](https://developers.naver.com/docs/papago/papago-detectlangs-example-code.md#python)\n",
    "\n",
    "+ 보다 다양한 API 사용법은 api reference를 통해 공부하실 수 있습니다. \n",
    "[https://developers.naver.com/docs/papago/papago-nmt-api-reference.md](https://developers.naver.com/docs/papago/papago-nmt-api-reference.md)"
   ]
  },
  {
   "cell_type": "markdown",
   "metadata": {},
   "source": [
    "마지막으로 위 예제코드와 지금까지 배운 python 기본 문법들을 활용하여, 한국어를 입력하면 번영된 영어 문장을 출력해주는 프로그램을 만들어 보세요. (input과 def를 이용해주세요)\n",
    "\n",
    "프로그램은 사용자가 \"X\"를 입력할 때 까지 계속해서 번역할 수 있어야 합니다.\n",
    "\n",
    "Hint: 위 예제 코드를 그대로 이용할 경우 번역된 영어 문장만 뽑아내기가 어렵습니다. 이를 해결하기 위해서는 아래처럼 코드를 수정해야 합니다. JSON과 API에 익숙하신 분은 예제코드 전체를 수정해서 새로 코드를 짜셔도 괜찮습니다.\n",
    "\n",
    "import json\n",
    "\n",
    "response_body = response.read()\n",
    "eng = json.loads(response_body)['message']['result']['translatedText']"
   ]
  },
  {
   "cell_type": "code",
   "execution_count": null,
   "metadata": {},
   "outputs": [],
   "source": [
    "# 아래 코드는 정답 예시일 뿐입니다.\n",
    "import os\n",
    "import sys\n",
    "import json\n",
    "import urllib.request\n",
    "\n",
    "def translate(korean):\n",
    "    client_id = \"\" # 개발자센터에서 발급받은 Client ID 값\n",
    "    client_secret = \"\" # 개발자센터에서 발급받은 Client Secret 값\n",
    "\n",
    "    encText = urllib.parse.quote(korean)\n",
    "    data = \"source=ko&target=en&text=\" + encText\n",
    "\n",
    "    url = \"https://openapi.naver.com/v1/papago/n2mt\"\n",
    "    request = urllib.request.Request(url)\n",
    "    request.add_header(\"X-Naver-Client-Id\",client_id)\n",
    "    request.add_header(\"X-Naver-Client-Secret\",client_secret)\n",
    "    response = urllib.request.urlopen(request, data=data.encode(\"utf-8\"))\n",
    "    rescode = response.getcode()\n",
    "\n",
    "    if(rescode==200):\n",
    "        response_body = response.read()\n",
    "        eng = json.loads(response_body)['message']['result']['translatedText']\n",
    "    else:\n",
    "        print(\"Error Code:\" + rescode)\n",
    "\n",
    "    return eng\n",
    "\n",
    "if __name__ == \"__main__\":\n",
    "    while True:\n",
    "        korean = input(\"번역할 한국어를 입력해 주세요:\")\n",
    "        if korean == 'X':\n",
    "            break\n",
    "        eng = translate(korean)\n",
    "        print('번역 :', eng)"
   ]
  },
  {
   "cell_type": "markdown",
   "metadata": {},
   "source": [
    "다음 소스 코드를 완성하여 주어진 이메일 주소가 올바른지 판단하도록 만드세요. emails 리스트에서 앞의 다섯 개는 올바른 형식이며 마지막 세 개는 잘못된 형식입니다."
   ]
  },
  {
   "cell_type": "code",
   "execution_count": 2,
   "metadata": {},
   "outputs": [
    {
     "name": "stdout",
     "output_type": "stream",
     "text": [
      "True True True True True False False False "
     ]
    }
   ],
   "source": [
    "import re\n",
    " \n",
    "p = re.compile('^[a-zA-Z0-9+-_.]+@[a-zA-Z0-9-]+\\.[a-zA-Z0-9-.]+$')\n",
    "emails = ['python@mail.example.com', 'python+kr@example.com',              # 올바른 형식\n",
    "          'python-dojang@example.co.kr', 'python_10@example.info',         # 올바른 형식\n",
    "          'python.dojang@e-xample.com',                                    # 올바른 형식\n",
    "          '@example.com', 'python@example', 'python@example-com']          # 잘못된 형식\n",
    " \n",
    "for email in emails:\n",
    "    print(p.match(email) != None, end=' ')"
   ]
  },
  {
   "cell_type": "markdown",
   "metadata": {},
   "source": [
    "샘플 json 파일 읽어와서 원하는 형식으로 정리해보자"
   ]
  },
  {
   "cell_type": "code",
   "execution_count": null,
   "metadata": {},
   "outputs": [],
   "source": [
    "import pandas as pd\n",
    "import glob\n",
    "import json\n",
    "import re\n",
    "import os\n",
    "\n",
    "path = \"./\" # json 파일 저장한 경로 입력\n",
    "json_list = glob.glob(os.path.join(path + \"*.json\"))\n",
    "\n",
    "json_file = []\n",
    "for json_path in json_list:\n",
    "\t\t# TODO 1\n",
    "    with open(json_path, 'rb') as f:\n",
    "        json_file.append(json.load(f))\n",
    "\n",
    "review = pd.DataFrame(json_file)\n",
    "\n",
    "def text_cleaning(text):\n",
    "    # TODO 2\n",
    "    hangul = re.compile('[^ ㄱ-ㅣ 가-힣]+')\n",
    "    result = hangul.sub('', text)\n",
    "    return result\n",
    "\n",
    "review['doc_content'] = review['doc_content'].map(lambda x: text_cleaning(x))\n",
    "print(review['doc_content'])\n"
   ]
  }
 ],
 "metadata": {
  "interpreter": {
   "hash": "cdce881fc8fe3df2c893f7aaabaec2dd9fa6651ea6aaf02d2bea00d8ef1afde0"
  },
  "kernelspec": {
   "display_name": "Python 3.8.5 64-bit",
   "name": "python3"
  },
  "language_info": {
   "codemirror_mode": {
    "name": "ipython",
    "version": 3
   },
   "file_extension": ".py",
   "mimetype": "text/x-python",
   "name": "python",
   "nbconvert_exporter": "python",
   "pygments_lexer": "ipython3",
   "version": "3.8.5"
  },
  "orig_nbformat": 4
 },
 "nbformat": 4,
 "nbformat_minor": 2
}
