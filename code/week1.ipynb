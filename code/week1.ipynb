{
 "cells": [
  {
   "attachments": {},
   "cell_type": "markdown",
   "metadata": {},
   "source": [
    "## FinanceDataReader 란?\n",
    "\n",
    "* 한국 주식 가격, 미국주식 가격, 지수, 환율, 암호화폐 가격, 종목 리스팅 등 금융 데이터 수집 라이브러리\n",
    "* [FinanceData/FinanceDataReader: Financial data reader](https://github.com/FinanceData/FinanceDataReader)\n",
    "* [FinanceDataReader 사용자 안내서 | FinanceData](https://financedata.github.io/posts/finance-data-reader-users-guide.html)\n",
    "* https://pandas-datareader.readthedocs.io/en/latest/readers/index.html"
   ]
  },
  {
   "cell_type": "code",
   "execution_count": 1,
   "metadata": {},
   "outputs": [
    {
     "name": "stdout",
     "output_type": "stream",
     "text": [
      "3.9.6 (default, May  7 2023, 23:32:44) \n",
      "[Clang 14.0.3 (clang-1403.0.22.14.1)]\n"
     ]
    }
   ],
   "source": [
    "#Question 1\n",
    "import sys\n",
    "print(sys.version)"
   ]
  },
  {
   "cell_type": "code",
   "execution_count": 2,
   "metadata": {},
   "outputs": [],
   "source": [
    "# pip install finance-datareader"
   ]
  },
  {
   "cell_type": "code",
   "execution_count": 10,
   "metadata": {},
   "outputs": [],
   "source": [
    "# KRX : KRX 종목 전체\n",
    "# KOSPI : KOSPI 종목\n",
    "# KOSDAQ : KOSDAQ 종목\n",
    "# KONEX : KONEX 종목\n",
    "# NASDAQ : 나스닥 종목\n",
    "# NYSE : 뉴욕증권거래소 종목\n",
    "# SP500 : S&P500 종목\n",
    "df_krx = fdr.StockListing(\"KRX\")"
   ]
  },
  {
   "cell_type": "code",
   "execution_count": 4,
   "metadata": {},
   "outputs": [
    {
     "name": "stderr",
     "output_type": "stream",
     "text": [
      "/Users/seoyoungsuk/Library/Python/3.9/lib/python/site-packages/urllib3/__init__.py:34: NotOpenSSLWarning: urllib3 v2.0 only supports OpenSSL 1.1.1+, currently the 'ssl' module is compiled with 'LibreSSL 2.8.3'. See: https://github.com/urllib3/urllib3/issues/3020\n",
      "  warnings.warn(\n"
     ]
    }
   ],
   "source": [
    "import FinanceDataReader as fdr\n",
    "import matplotlib.pyplot as plt"
   ]
  },
  {
   "cell_type": "code",
   "execution_count": 5,
   "metadata": {},
   "outputs": [
    {
     "data": {
      "text/html": [
       "<div>\n",
       "<style scoped>\n",
       "    .dataframe tbody tr th:only-of-type {\n",
       "        vertical-align: middle;\n",
       "    }\n",
       "\n",
       "    .dataframe tbody tr th {\n",
       "        vertical-align: top;\n",
       "    }\n",
       "\n",
       "    .dataframe thead th {\n",
       "        text-align: right;\n",
       "    }\n",
       "</style>\n",
       "<table border=\"1\" class=\"dataframe\">\n",
       "  <thead>\n",
       "    <tr style=\"text-align: right;\">\n",
       "      <th></th>\n",
       "      <th>Open</th>\n",
       "      <th>High</th>\n",
       "      <th>Low</th>\n",
       "      <th>Close</th>\n",
       "      <th>Adj Close</th>\n",
       "      <th>Volume</th>\n",
       "    </tr>\n",
       "    <tr>\n",
       "      <th>Date</th>\n",
       "      <th></th>\n",
       "      <th></th>\n",
       "      <th></th>\n",
       "      <th></th>\n",
       "      <th></th>\n",
       "      <th></th>\n",
       "    </tr>\n",
       "  </thead>\n",
       "  <tbody>\n",
       "    <tr>\n",
       "      <th>2019-01-01</th>\n",
       "      <td>3746.713379</td>\n",
       "      <td>3850.913818</td>\n",
       "      <td>3707.231201</td>\n",
       "      <td>3843.520020</td>\n",
       "      <td>3843.520020</td>\n",
       "      <td>4324200990</td>\n",
       "    </tr>\n",
       "    <tr>\n",
       "      <th>2019-01-02</th>\n",
       "      <td>3849.216309</td>\n",
       "      <td>3947.981201</td>\n",
       "      <td>3817.409424</td>\n",
       "      <td>3943.409424</td>\n",
       "      <td>3943.409424</td>\n",
       "      <td>5244856836</td>\n",
       "    </tr>\n",
       "    <tr>\n",
       "      <th>2019-01-03</th>\n",
       "      <td>3931.048584</td>\n",
       "      <td>3935.685059</td>\n",
       "      <td>3826.222900</td>\n",
       "      <td>3836.741211</td>\n",
       "      <td>3836.741211</td>\n",
       "      <td>4530215219</td>\n",
       "    </tr>\n",
       "    <tr>\n",
       "      <th>2019-01-04</th>\n",
       "      <td>3832.040039</td>\n",
       "      <td>3865.934570</td>\n",
       "      <td>3783.853760</td>\n",
       "      <td>3857.717529</td>\n",
       "      <td>3857.717529</td>\n",
       "      <td>4847965467</td>\n",
       "    </tr>\n",
       "    <tr>\n",
       "      <th>2019-01-05</th>\n",
       "      <td>3851.973877</td>\n",
       "      <td>3904.903076</td>\n",
       "      <td>3836.900146</td>\n",
       "      <td>3845.194580</td>\n",
       "      <td>3845.194580</td>\n",
       "      <td>5137609824</td>\n",
       "    </tr>\n",
       "  </tbody>\n",
       "</table>\n",
       "</div>"
      ],
      "text/plain": [
       "                   Open         High          Low        Close    Adj Close  \\\n",
       "Date                                                                          \n",
       "2019-01-01  3746.713379  3850.913818  3707.231201  3843.520020  3843.520020   \n",
       "2019-01-02  3849.216309  3947.981201  3817.409424  3943.409424  3943.409424   \n",
       "2019-01-03  3931.048584  3935.685059  3826.222900  3836.741211  3836.741211   \n",
       "2019-01-04  3832.040039  3865.934570  3783.853760  3857.717529  3857.717529   \n",
       "2019-01-05  3851.973877  3904.903076  3836.900146  3845.194580  3845.194580   \n",
       "\n",
       "                Volume  \n",
       "Date                    \n",
       "2019-01-01  4324200990  \n",
       "2019-01-02  5244856836  \n",
       "2019-01-03  4530215219  \n",
       "2019-01-04  4847965467  \n",
       "2019-01-05  5137609824  "
      ]
     },
     "execution_count": 5,
     "metadata": {},
     "output_type": "execute_result"
    }
   ],
   "source": [
    "df=fdr.DataReader('BTC/USD','2019-01-01','2019-12-31')\n",
    "df.head()"
   ]
  },
  {
   "cell_type": "code",
   "execution_count": 6,
   "metadata": {},
   "outputs": [
    {
     "name": "stdout",
     "output_type": "stream",
     "text": [
      "==============================================\n",
      "2018년도 eth의 요약 정보입니다.\n",
      "(단위: %)\n",
      "==============================================\n",
      "평균: 0.050823580189068934\n",
      "최댓값: 1.7125976443599145\n",
      "최소값: -1.2486239286167655\n",
      "표준편차:0.5264611632680202\n",
      "==============================================\n"
     ]
    },
    {
     "data": {
      "image/png": "[encoded data removed]",
      "text/plain": [
       "<Figure size 640x480 with 1 Axes>"
      ]
     },
     "metadata": {},
     "output_type": "display_data"
    }
   ],
   "source": [
    "#Question 2 확인\n",
    "df=fdr.DataReader('BTC/USD','2016-01-01','2016-12-31')\n",
    "df.head()\n",
    "def K_premium():\n",
    "    coin_name = input('암호화폐 기호를 입력해주세요: ') # 기호는 BTC 등\n",
    "    year = input('관심 연도를 입력해주세요: ')\n",
    "    # df1,2,3 순서대로 국내거래소 정보, 해외거래소 정보, 환율 정보\n",
    "    df1 = fdr.DataReader(coin_name + '/' + 'KRW', year + '-01-01',year + '-12-31')\n",
    "    df2 = fdr.DataReader(coin_name + '/' + 'USD', year + '-01-01',year + '-12-31')\n",
    "    df3 = fdr.DataReader('KRW/USD', year + '-01-01', year + '-12-31')\n",
    "  \n",
    "    # 일별 종가 값만 고려\n",
    "    sell = df1['Close'] #매도\n",
    "    buy = df2['Close']  #매수\n",
    "    exchange_rate = df3['Close']\n",
    "    \n",
    "    K_premium = (sell/(buy/exchange_rate)-1)*100\n",
    "    \n",
    "    print('==============================================')\n",
    "    print(f'{year}년도 {coin_name}의 요약 정보입니다.') # format 함수 이용\n",
    "    print('(단위: %)')\n",
    "    print('==============================================')\n",
    "    print(f'평균: {K_premium.mean()}') # mean, format 함수 이용\n",
    "    print(f'최댓값: {K_premium.max()}') # max, format 함수 이용\n",
    "    print(f'최소값: {K_premium.min()}') # min, format 함수 이용\n",
    "    print(f'표준편차:{K_premium.std()}') # std, format 함수 이용\n",
    "    print('==============================================')\n",
    "\n",
    "    plt.plot(K_premium)\n",
    "    plt.show()\n",
    "K_premium()"
   ]
  },
  {
   "cell_type": "code",
   "execution_count": 7,
   "metadata": {},
   "outputs": [
    {
     "name": "stdout",
     "output_type": "stream",
     "text": [
      "5000\n",
      "0\n"
     ]
    }
   ],
   "source": [
    "#Question 3\n",
    "def maxProfit(prices):     # maxProfit 함수의 input으로는 prices 변수가 들어갑니다.\n",
    "\tmax_profit = 0           # max_profit 변수의 값을 초기화합니다.\n",
    "\tmin_price=min(prices)\n",
    "\tmin_idx=prices.index(min_price)\n",
    "\tmax_price=max(prices[min_idx:])\n",
    "\tif max_price>min_price:\n",
    "    \t\treturn max_price-min_price\n",
    "\telse:\n",
    "\t\treturn 0  \n",
    "\n",
    "p = [7000, 1000, 5000, 3000, 6000, 4000]\n",
    "print(maxProfit(p))\n",
    "prices = [7000, 6000, 4000, 3000, 1000]\n",
    "print(maxProfit(prices))\n",
    "#1번째 날 1000원에 주식을 매수하고 4번째 날 6000원으로 주식을 매도하면 \n",
    "# 이익은 6000원 - 1000원 = 5000원이 됩니다. 여기서 주의할 점은 주식을 매도하기 전에는 \n",
    "# 반드시 주식을 매수해야 하기 때문에,1번째 날 주식을 매수하고 0번째 날 주식을 매도할 수 없습니다."
   ]
  },
  {
   "cell_type": "code",
   "execution_count": 8,
   "metadata": {},
   "outputs": [
    {
     "name": "stdout",
     "output_type": "stream",
     "text": [
      "1071.4796606346547\n"
     ]
    }
   ],
   "source": [
    "#Question 4-1\n",
    "T = 10 #10기간을 의미합니다\n",
    "r = 0.12 #이자율을 의미합니다\n",
    "P = [0,100,200,300,400,300,200,100,50,50,100] #시기별 현금 흐름을 의미합니다\n",
    "pv=0\n",
    "for i in range(T):\n",
    "    pv= pv+(P[i]/(1+r)**i)\n",
    "print(pv)"
   ]
  },
  {
   "cell_type": "code",
   "execution_count": 9,
   "metadata": {},
   "outputs": [
    {
     "name": "stdout",
     "output_type": "stream",
     "text": [
      "5735.111334152361\n"
     ]
    }
   ],
   "source": [
    "#Question 4-2 (1)\n",
    "import numpy as np\n",
    "\n",
    "#성장률\n",
    "g_mu = 0.01\n",
    "g_sigma = 0.003\n",
    "g = np.random.normal(g_mu, g_sigma, 100)\n",
    "\n",
    "#이자율\n",
    "r_mu = 0.1\n",
    "r_sigma = 0.0005\n",
    "r = np.random.normal(r_mu, r_sigma, 100)\n",
    "#배당\n",
    "D0 = np.random.randint(low = 80, high = 2000)\n",
    "\n",
    "#미래 배당액을 저장할 array만들기\n",
    "D = np.zeros(100)\n",
    "\n",
    "#각 미래 배당액에 대응하는 이자율을 저장할 array 만들기\n",
    "R = np.zeros(100)\n",
    "#초기값 설정\n",
    "D[0] = D0*(1+g[0])\n",
    "#D[0]에 저장되는 값은 T=1시점의 배당액입니다.\n",
    "\n",
    "R[0] = 1+r[0]\n",
    "#할인할 때는 (1+이자율)을 사용하기 때문에, T=1시점의 배당을 할인해주기 위한 T=0~1시점의 R[0]을 형성합니다.\n",
    "\n",
    "#T = 1 시점의 미래 배당액의 현재 가치는 다음과 같이 표시될 수 있습니다.\n",
    "PV = D[0]/R[0]\n",
    "\n",
    "for i in range(1,100):\n",
    "    D[i] = D[i-1]*(1+g[i])    \n",
    "    R[i] = R[i-1]*(1+r[i])\n",
    "    PV = PV + D[i]/R[i]\n",
    "print(PV)"
   ]
  },
  {
   "cell_type": "code",
   "execution_count": 18,
   "metadata": {},
   "outputs": [
    {
     "data": {
      "text/plain": [
       "1506.324831839041"
      ]
     },
     "execution_count": 18,
     "metadata": {},
     "output_type": "execute_result"
    }
   ],
   "source": [
    "#Question 4-2 (2)\n",
    "import numpy as np\n",
    "\n",
    "mu = 0.01\n",
    "sigma = 0.003\n",
    "g = np.random.normal(mu,sigma,100)\n",
    "\n",
    "#배당\n",
    "D0 = np.random.randint(low = 80, high = 2000)\n",
    "#현재 시점의 배당은 80~2000 사이에서 random하게 정해질 것입니다.\n",
    "\n",
    "#이자율\n",
    "mu = 0.1\n",
    "sigma = 0.0005\n",
    "r = np.random.normal(mu, sigma, 100)\n",
    "\n",
    "D = 0\n",
    "r_temp = 1\n",
    "g_temp = 1\n",
    "for t in range(100):\n",
    "  r_temp = r_temp*(1+r[t])\n",
    "  g_temp = g_temp*(1+g[t])\n",
    "  D += D0*g_temp/r_temp\n",
    "\n",
    "D"
   ]
  },
  {
   "cell_type": "code",
   "execution_count": 12,
   "metadata": {},
   "outputs": [
    {
     "name": "stdout",
     "output_type": "stream",
     "text": [
      "746921.7844631271\n"
     ]
    }
   ],
   "source": [
    "#Question 4-2 (3)\n",
    "import numpy as np\n",
    "D0 = np.random.randint(low = 80, high = 2000)\n",
    "#현재 시점의 배당은 80~2000 사이에서 random하게 정해질 것입니다.\n",
    "mu = 0.01\n",
    "sigma = 0.003\n",
    "g = np.random.normal(mu, sigma, 100)\n",
    "#이자율\n",
    "mu2 = 0.1\n",
    "sigma2 = 0.0005\n",
    "r = np.random.normal(mu2, sigma2, 100)\n",
    "\n",
    "g # 성장률\n",
    "r # 이자율\n",
    "D0 #현재 시점의 배당\n",
    "cv=0\n",
    "\n",
    "for i in range(100):\n",
    "    cv = cv + D0/(1+r-g)**i\n",
    "print(sum(cv)-D0)"
   ]
  },
  {
   "cell_type": "code",
   "execution_count": null,
   "metadata": {},
   "outputs": [],
   "source": []
  }
 ],
 "metadata": {
  "interpreter": {
   "hash": "cdce881fc8fe3df2c893f7aaabaec2dd9fa6651ea6aaf02d2bea00d8ef1afde0"
  },
  "kernelspec": {
   "display_name": "Python 3.8.5 64-bit",
   "name": "python3"
  },
  "language_info": {
   "codemirror_mode": {
    "name": "ipython",
    "version": 3
   },
   "file_extension": ".py",
   "mimetype": "text/x-python",
   "name": "python",
   "nbconvert_exporter": "python",
   "pygments_lexer": "ipython3",
   "version": "3.9.6"
  },
  "orig_nbformat": 4
 },
 "nbformat": 4,
 "nbformat_minor": 2
}
